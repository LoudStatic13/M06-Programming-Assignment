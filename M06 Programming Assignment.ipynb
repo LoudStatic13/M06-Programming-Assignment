{
 "cells": [
  {
   "cell_type": "code",
   "execution_count": 101,
   "id": "703eec91",
   "metadata": {},
   "outputs": [],
   "source": [
    "# 13.1\n",
    "import datetime\n",
    "\n",
    "today = date.today()\n",
    "file = open(\"today.txt\", \"w\")\n",
    "file.write(str(today))\n",
    "file.close()"
   ]
  },
  {
   "cell_type": "code",
   "execution_count": 102,
   "id": "76f7b0d1",
   "metadata": {},
   "outputs": [],
   "source": [
    "# 13.2\n",
    "file = open(\"today.txt\", \"r\")\n",
    "today_string = file.read()\n",
    "file.close()\n"
   ]
  },
  {
   "cell_type": "code",
   "execution_count": 103,
   "id": "78cc5fc1",
   "metadata": {},
   "outputs": [
    {
     "name": "stdout",
     "output_type": "stream",
     "text": [
      "Today is, 2023-05-10.\n"
     ]
    }
   ],
   "source": [
    "# 13.3\n",
    "fmt = \"%Y-%m-%d\"\n",
    "time.strptime(today_string, fmt)\n",
    "print(\"Today is,\", today_string + \".\")"
   ]
  },
  {
   "cell_type": "code",
   "execution_count": 106,
   "id": "1e5b9b46",
   "metadata": {},
   "outputs": [
    {
     "name": "stdout",
     "output_type": "stream",
     "text": [
      "11:05:16AM\n",
      "11:05:16AM\n",
      "11:05:17AM\n"
     ]
    }
   ],
   "source": [
    "# 15.1\n",
    "import multiprocessing\n",
    "import time\n",
    "from random import randint\n",
    "\n",
    "def print_time():\n",
    "    fmt = \"%I:%M:%S%p\"\n",
    "    now = time.strftime(fmt)\n",
    "    time.sleep(randint(0,1))\n",
    "    print(now)\n",
    "\n",
    "if __name__ == \"__main__\":\n",
    "    proc1 = multiprocessing.Process(target=print_time())\n",
    "    proc2 = multiprocessing.Process(target=print_time())\n",
    "    proc3 = multiprocessing.Process(target=print_time())\n",
    "    proc1.start()\n",
    "    proc2.start()\n",
    "    proc3.start()\n",
    "    proc1.join()\n",
    "    proc2.join()\n",
    "    proc3.join()"
   ]
  },
  {
   "cell_type": "code",
   "execution_count": null,
   "id": "8680175b",
   "metadata": {},
   "outputs": [],
   "source": []
  }
 ],
 "metadata": {
  "kernelspec": {
   "display_name": "Python 3 (ipykernel)",
   "language": "python",
   "name": "python3"
  },
  "language_info": {
   "codemirror_mode": {
    "name": "ipython",
    "version": 3
   },
   "file_extension": ".py",
   "mimetype": "text/x-python",
   "name": "python",
   "nbconvert_exporter": "python",
   "pygments_lexer": "ipython3",
   "version": "3.10.9"
  }
 },
 "nbformat": 4,
 "nbformat_minor": 5
}
